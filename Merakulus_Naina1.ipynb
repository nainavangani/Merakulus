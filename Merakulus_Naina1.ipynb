{
 "cells": [
  {
   "cell_type": "code",
   "execution_count": 1,
   "id": "e821b1bc",
   "metadata": {},
   "outputs": [
    {
     "name": "stdout",
     "output_type": "stream",
     "text": [
      "1\n",
      "-1\n",
      "-1\n",
      "3\n",
      "4\n"
     ]
    }
   ],
   "source": [
    "class LRUCacheNode:\n",
    "    def __init__(self, key, value):\n",
    "        self.key = key\n",
    "        self.value = value\n",
    "        self.prev = None\n",
    "        self.next = None\n",
    "\n",
    "\n",
    "class LRUCache:\n",
    "    def __init__(self, capacity: int):\n",
    "        self.capacity = capacity\n",
    "        self.cache = {}\n",
    "        self.head = LRUCacheNode(None, None)\n",
    "        self.tail = LRUCacheNode(None, None)\n",
    "        self.head.next = self.tail\n",
    "        self.tail.prev = self.head\n",
    "\n",
    "    def _add_node_to_tail(self, node):\n",
    "        node.prev = self.tail.prev\n",
    "        node.next = self.tail\n",
    "        self.tail.prev.next = node\n",
    "        self.tail.prev = node\n",
    "\n",
    "    def _remove_node(self, node):\n",
    "        node.prev.next = node.next\n",
    "        node.next.prev = node.prev\n",
    "\n",
    "    def _move_node_to_tail(self, node):\n",
    "        self._remove_node(node)\n",
    "        self._add_node_to_tail(node)\n",
    "\n",
    "    def get(self, key: int) -> int:\n",
    "        if key in self.cache:\n",
    "            node = self.cache[key]\n",
    "            self._move_node_to_tail(node)\n",
    "            return node.value\n",
    "        return -1\n",
    "\n",
    "    def put(self, key: int, value: int) -> None:\n",
    "        if key in self.cache:\n",
    "            node = self.cache[key]\n",
    "            node.value = value\n",
    "            self._move_node_to_tail(node)\n",
    "        else:\n",
    "            if len(self.cache) >= self.capacity:\n",
    "                # Evict the least recently used node (the head's next node)\n",
    "                lru_node = self.head.next\n",
    "                self._remove_node(lru_node)\n",
    "                del self.cache[lru_node.key]\n",
    "            new_node = LRUCacheNode(key, value)\n",
    "            self.cache[key] = new_node\n",
    "            self._add_node_to_tail(new_node)\n",
    "\n",
    "# Example usage:\n",
    "cache = LRUCache(2)\n",
    "cache.put(1, 1)\n",
    "cache.put(2, 2)\n",
    "print(cache.get(1))  # Output: 1\n",
    "cache.put(3, 3)\n",
    "print(cache.get(2))  # Output: -1 (Key 2 is evicted since it was the least recently used)\n",
    "cache.put(4, 4)\n",
    "print(cache.get(1))  # Output: -1 (Key 1 is evicted since it was the least recently used)\n",
    "print(cache.get(3))  # Output: 3\n",
    "print(cache.get(4))  # Output: 4\n"
   ]
  },
  {
   "cell_type": "code",
   "execution_count": null,
   "id": "c1df9c16",
   "metadata": {},
   "outputs": [],
   "source": []
  }
 ],
 "metadata": {
  "kernelspec": {
   "display_name": "Python 3 (ipykernel)",
   "language": "python",
   "name": "python3"
  },
  "language_info": {
   "codemirror_mode": {
    "name": "ipython",
    "version": 3
   },
   "file_extension": ".py",
   "mimetype": "text/x-python",
   "name": "python",
   "nbconvert_exporter": "python",
   "pygments_lexer": "ipython3",
   "version": "3.9.7"
  }
 },
 "nbformat": 4,
 "nbformat_minor": 5
}
