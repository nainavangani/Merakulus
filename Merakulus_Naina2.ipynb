{
 "cells": [
  {
   "cell_type": "code",
   "execution_count": 1,
   "id": "6a8b9b87",
   "metadata": {},
   "outputs": [
    {
     "name": "stdout",
     "output_type": "stream",
     "text": [
      "5\n",
      "0\n"
     ]
    }
   ],
   "source": [
    "def max_profit(prices):\n",
    "    if not prices or len(prices) < 2:\n",
    "        return 0\n",
    "\n",
    "    max_profit = 0\n",
    "    min_price = prices[0]\n",
    "\n",
    "    for price in prices[1:]:\n",
    "        max_profit = max(max_profit, price - min_price)\n",
    "        min_price = min(min_price, price)\n",
    "\n",
    "    return max_profit\n",
    "\n",
    "# Example usage:\n",
    "prices1 = [7, 1, 5, 3, 6, 4]\n",
    "print(max_profit(prices1))  # Output: 5 (Buy at day 2 (price=1) and sell at day 5 (price=6))\n",
    "\n",
    "prices2 = [7, 6, 4, 3, 1]\n",
    "print(max_profit(prices2))  # Output: 0 (No profitable transaction is possible)\n",
    "\n"
   ]
  },
  {
   "cell_type": "code",
   "execution_count": null,
   "id": "aa561ddd",
   "metadata": {},
   "outputs": [],
   "source": []
  }
 ],
 "metadata": {
  "kernelspec": {
   "display_name": "Python 3 (ipykernel)",
   "language": "python",
   "name": "python3"
  },
  "language_info": {
   "codemirror_mode": {
    "name": "ipython",
    "version": 3
   },
   "file_extension": ".py",
   "mimetype": "text/x-python",
   "name": "python",
   "nbconvert_exporter": "python",
   "pygments_lexer": "ipython3",
   "version": "3.9.7"
  }
 },
 "nbformat": 4,
 "nbformat_minor": 5
}
